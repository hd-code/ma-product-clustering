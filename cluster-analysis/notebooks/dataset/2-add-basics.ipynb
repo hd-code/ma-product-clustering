{
 "cells": [
  {
   "cell_type": "markdown",
   "metadata": {},
   "source": [
    "# Add Basic Settings to Akeneo PIM"
   ]
  },
  {
   "cell_type": "code",
   "execution_count": 1,
   "metadata": {},
   "outputs": [],
   "source": [
    "import pandas as pd\n",
    "\n",
    "from src import akeneo, config"
   ]
  },
  {
   "cell_type": "code",
   "execution_count": 2,
   "metadata": {},
   "outputs": [],
   "source": [
    "client = akeneo.create_client_from_env()"
   ]
  },
  {
   "cell_type": "markdown",
   "metadata": {},
   "source": [
    "## Base Category Tree"
   ]
  },
  {
   "cell_type": "code",
   "execution_count": 3,
   "metadata": {},
   "outputs": [
    {
     "data": {
      "text/plain": [
       "{'status': 204, 'message': 'No Content'}"
      ]
     },
     "execution_count": 3,
     "metadata": {},
     "output_type": "execute_result"
    }
   ],
   "source": [
    "category_base = \"master\"\n",
    "\n",
    "client.request(\"pim_api_category_partial_update\", {\"code\": category_base}, body={\n",
    "    \"labels\": {\n",
    "        \"en_US\": \"Master\",\n",
    "        \"en_GB\": \"Master\",\n",
    "        \"de_DE\": \"Master\",\n",
    "    }\n",
    "})"
   ]
  },
  {
   "cell_type": "markdown",
   "metadata": {},
   "source": [
    "## Default Channel with Locales and Currencies"
   ]
  },
  {
   "cell_type": "code",
   "execution_count": 4,
   "metadata": {},
   "outputs": [
    {
     "data": {
      "text/plain": [
       "{'status': 204, 'message': 'No Content'}"
      ]
     },
     "execution_count": 4,
     "metadata": {},
     "output_type": "execute_result"
    }
   ],
   "source": [
    "channel = \"default\"\n",
    "\n",
    "client.request(\"pim_api_channel_partial_update\", {\"code\": channel}, body={\n",
    "    \"category_tree\": category_base,\n",
    "    \"currencies\": [\"USD\", \"EUR\"],\n",
    "    \"locales\": [\"en_US\", \"en_GB\", \"de_DE\"],\n",
    "    \"labels\": {\n",
    "        \"en_US\": \"Default\",\n",
    "        \"en_GB\": \"Default\",\n",
    "        \"de_DE\": \"Default\",\n",
    "    }\n",
    "})"
   ]
  },
  {
   "cell_type": "markdown",
   "metadata": {},
   "source": [
    "## Base Attributes for Icecat Connector\n",
    "\n",
    "### Attribute Group"
   ]
  },
  {
   "cell_type": "markdown",
   "metadata": {},
   "source": [
    "Basic attribute group for all icecat base attributes:"
   ]
  },
  {
   "cell_type": "code",
   "execution_count": 5,
   "metadata": {},
   "outputs": [
    {
     "data": {
      "text/plain": [
       "{'status': 204, 'message': 'No Content'}"
      ]
     },
     "execution_count": 5,
     "metadata": {},
     "output_type": "execute_result"
    }
   ],
   "source": [
    "attr_group = \"basic\"\n",
    "\n",
    "client.request(\n",
    "    \"pim_api_attribute_group_partial_update\",\n",
    "    {\"code\": attr_group},\n",
    "    {\n",
    "        \"labels\": {\n",
    "            \"en_US\": \"Basic\",\n",
    "            \"en_GB\": \"Basic\",\n",
    "            \"de_DE\": \"Basic\",\n",
    "        },\n",
    "    },\n",
    ")"
   ]
  },
  {
   "cell_type": "markdown",
   "metadata": {},
   "source": [
    "Attribute group for faulty attributes, that the icecat importer does not handle correctly:"
   ]
  },
  {
   "cell_type": "code",
   "execution_count": 6,
   "metadata": {},
   "outputs": [
    {
     "data": {
      "text/plain": [
       "{'status': 204, 'message': 'No Content'}"
      ]
     },
     "execution_count": 6,
     "metadata": {},
     "output_type": "execute_result"
    }
   ],
   "source": [
    "client.request(\n",
    "    \"pim_api_attribute_group_partial_update\",\n",
    "    {\"code\": \"faulty\"},\n",
    "    {\n",
    "        \"labels\": {\n",
    "            \"en_US\": \"Faulty\",\n",
    "            \"en_GB\": \"Faulty\",\n",
    "            \"de_DE\": \"Fehlerhaft\",\n",
    "        },\n",
    "    },\n",
    ")"
   ]
  },
  {
   "cell_type": "markdown",
   "metadata": {},
   "source": [
    "### Load Basic Attributes from CSV File"
   ]
  },
  {
   "cell_type": "code",
   "execution_count": 7,
   "metadata": {},
   "outputs": [
    {
     "data": {
      "text/html": [
       "<div>\n",
       "<style scoped>\n",
       "    .dataframe tbody tr th:only-of-type {\n",
       "        vertical-align: middle;\n",
       "    }\n",
       "\n",
       "    .dataframe tbody tr th {\n",
       "        vertical-align: top;\n",
       "    }\n",
       "\n",
       "    .dataframe thead th {\n",
       "        text-align: right;\n",
       "    }\n",
       "</style>\n",
       "<table border=\"1\" class=\"dataframe\">\n",
       "  <thead>\n",
       "    <tr style=\"text-align: right;\">\n",
       "      <th></th>\n",
       "      <th>code</th>\n",
       "      <th>type</th>\n",
       "      <th>locale_en</th>\n",
       "      <th>locale_de</th>\n",
       "      <th>opts</th>\n",
       "    </tr>\n",
       "  </thead>\n",
       "  <tbody>\n",
       "    <tr>\n",
       "      <th>0</th>\n",
       "      <td>sku</td>\n",
       "      <td>pim_catalog_identifier</td>\n",
       "      <td>SKU</td>\n",
       "      <td>SKU</td>\n",
       "      <td>{}</td>\n",
       "    </tr>\n",
       "    <tr>\n",
       "      <th>1</th>\n",
       "      <td>ean</td>\n",
       "      <td>pim_catalog_text</td>\n",
       "      <td>EAN</td>\n",
       "      <td>EAN</td>\n",
       "      <td>{\"unique\": True}</td>\n",
       "    </tr>\n",
       "    <tr>\n",
       "      <th>2</th>\n",
       "      <td>icecat_brand</td>\n",
       "      <td>pim_catalog_text</td>\n",
       "      <td>Brand</td>\n",
       "      <td>Brand</td>\n",
       "      <td>{\"localizable\": True, \"scopable\": True, \"group...</td>\n",
       "    </tr>\n",
       "    <tr>\n",
       "      <th>3</th>\n",
       "      <td>icecat_brand_fixed</td>\n",
       "      <td>pim_catalog_simpleselect</td>\n",
       "      <td>Brand</td>\n",
       "      <td>Brand</td>\n",
       "      <td>{\"localizable\": True, \"scopable\": True}</td>\n",
       "    </tr>\n",
       "    <tr>\n",
       "      <th>4</th>\n",
       "      <td>icecat_name</td>\n",
       "      <td>pim_catalog_text</td>\n",
       "      <td>Name</td>\n",
       "      <td>Name</td>\n",
       "      <td>{\"localizable\": True, \"scopable\": True}</td>\n",
       "    </tr>\n",
       "    <tr>\n",
       "      <th>5</th>\n",
       "      <td>icecat_title</td>\n",
       "      <td>pim_catalog_text</td>\n",
       "      <td>Title</td>\n",
       "      <td>Titel</td>\n",
       "      <td>{\"localizable\": True, \"scopable\": True}</td>\n",
       "    </tr>\n",
       "    <tr>\n",
       "      <th>6</th>\n",
       "      <td>icecat_description</td>\n",
       "      <td>pim_catalog_textarea</td>\n",
       "      <td>Description</td>\n",
       "      <td>Beschreibung</td>\n",
       "      <td>{\"localizable\": True, \"scopable\": True}</td>\n",
       "    </tr>\n",
       "    <tr>\n",
       "      <th>7</th>\n",
       "      <td>icecat_description_short</td>\n",
       "      <td>pim_catalog_text</td>\n",
       "      <td>Short Description</td>\n",
       "      <td>Kurzbeschreibung</td>\n",
       "      <td>{\"localizable\": True, \"scopable\": True}</td>\n",
       "    </tr>\n",
       "    <tr>\n",
       "      <th>8</th>\n",
       "      <td>icecat_summary</td>\n",
       "      <td>pim_catalog_textarea</td>\n",
       "      <td>Summary</td>\n",
       "      <td>Zusammenfassung</td>\n",
       "      <td>{\"localizable\": True, \"scopable\": True}</td>\n",
       "    </tr>\n",
       "    <tr>\n",
       "      <th>9</th>\n",
       "      <td>icecat_summary_short</td>\n",
       "      <td>pim_catalog_text</td>\n",
       "      <td>Short Summary</td>\n",
       "      <td>Kurzzusammenfassung</td>\n",
       "      <td>{\"localizable\": True, \"scopable\": True}</td>\n",
       "    </tr>\n",
       "    <tr>\n",
       "      <th>10</th>\n",
       "      <td>icecat_image_0</td>\n",
       "      <td>pim_catalog_image</td>\n",
       "      <td>Main Picture</td>\n",
       "      <td>Hauptbild</td>\n",
       "      <td>{}</td>\n",
       "    </tr>\n",
       "  </tbody>\n",
       "</table>\n",
       "</div>"
      ],
      "text/plain": [
       "                        code                      type          locale_en  \\\n",
       "0                        sku    pim_catalog_identifier                SKU   \n",
       "1                        ean          pim_catalog_text                EAN   \n",
       "2               icecat_brand          pim_catalog_text              Brand   \n",
       "3         icecat_brand_fixed  pim_catalog_simpleselect              Brand   \n",
       "4                icecat_name          pim_catalog_text               Name   \n",
       "5               icecat_title          pim_catalog_text              Title   \n",
       "6         icecat_description      pim_catalog_textarea        Description   \n",
       "7   icecat_description_short          pim_catalog_text  Short Description   \n",
       "8             icecat_summary      pim_catalog_textarea            Summary   \n",
       "9       icecat_summary_short          pim_catalog_text      Short Summary   \n",
       "10            icecat_image_0         pim_catalog_image       Main Picture   \n",
       "\n",
       "              locale_de                                               opts  \n",
       "0                   SKU                                                 {}  \n",
       "1                   EAN                                   {\"unique\": True}  \n",
       "2                 Brand  {\"localizable\": True, \"scopable\": True, \"group...  \n",
       "3                 Brand            {\"localizable\": True, \"scopable\": True}  \n",
       "4                  Name            {\"localizable\": True, \"scopable\": True}  \n",
       "5                 Titel            {\"localizable\": True, \"scopable\": True}  \n",
       "6          Beschreibung            {\"localizable\": True, \"scopable\": True}  \n",
       "7      Kurzbeschreibung            {\"localizable\": True, \"scopable\": True}  \n",
       "8       Zusammenfassung            {\"localizable\": True, \"scopable\": True}  \n",
       "9   Kurzzusammenfassung            {\"localizable\": True, \"scopable\": True}  \n",
       "10            Hauptbild                                                 {}  "
      ]
     },
     "execution_count": 7,
     "metadata": {},
     "output_type": "execute_result"
    }
   ],
   "source": [
    "attr_file = config.dir_data / \"dataset\" / \"attributes-basic.csv\"\n",
    "attr_df = pd.read_csv(attr_file)\n",
    "attr_df"
   ]
  },
  {
   "cell_type": "code",
   "execution_count": 8,
   "metadata": {},
   "outputs": [
    {
     "name": "stdout",
     "output_type": "stream",
     "text": [
      "sku => {'status': 204, 'message': 'No Content'}\n",
      "ean => {'status': 204, 'message': 'No Content'}\n",
      "icecat_brand => {'status': 204, 'message': 'No Content'}\n",
      "icecat_brand_fixed => {'status': 204, 'message': 'No Content'}\n",
      "icecat_name => {'status': 204, 'message': 'No Content'}\n",
      "icecat_title => {'status': 204, 'message': 'No Content'}\n",
      "icecat_description => {'status': 204, 'message': 'No Content'}\n",
      "icecat_description_short => {'status': 204, 'message': 'No Content'}\n",
      "icecat_summary => {'status': 204, 'message': 'No Content'}\n",
      "icecat_summary_short => {'status': 204, 'message': 'No Content'}\n",
      "icecat_image_0 => {'status': 204, 'message': 'No Content'}\n"
     ]
    }
   ],
   "source": [
    "for _, code, type_, locale_en, locale_de, opts_str in attr_df.itertuples():\n",
    "    res = client.request(\"pim_api_attribute_partial_update\", {\"code\": code}, {\n",
    "        \"type\": type_,\n",
    "        \"labels\": {\n",
    "            \"en_US\": locale_en,\n",
    "            \"en_GB\": locale_en,\n",
    "            \"de_DE\": locale_de,\n",
    "        },\n",
    "        \"group\": attr_group,\n",
    "        **eval(opts_str),\n",
    "    })\n",
    "\n",
    "    print(code, \"=>\", res)"
   ]
  }
 ],
 "metadata": {
  "interpreter": {
   "hash": "2e5f538519eb6295833d34b6b2b64def2e17ecdccc08ac7b02c21eca857bcbe3"
  },
  "kernelspec": {
   "display_name": "Python 3.9.10 ('cluster-analysis-fd520k80')",
   "language": "python",
   "name": "python3"
  },
  "language_info": {
   "codemirror_mode": {
    "name": "ipython",
    "version": 3
   },
   "file_extension": ".py",
   "mimetype": "text/x-python",
   "name": "python",
   "nbconvert_exporter": "python",
   "pygments_lexer": "ipython3",
   "version": "3.9.6"
  },
  "orig_nbformat": 4
 },
 "nbformat": 4,
 "nbformat_minor": 2
}
