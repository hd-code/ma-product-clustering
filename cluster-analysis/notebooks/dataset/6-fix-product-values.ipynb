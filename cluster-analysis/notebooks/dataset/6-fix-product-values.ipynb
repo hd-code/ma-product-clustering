{
 "cells": [
  {
   "cell_type": "markdown",
   "metadata": {},
   "source": [
    "# Fixing Attributes and Product Values\n",
    "\n"
   ]
  },
  {
   "cell_type": "code",
   "execution_count": 9,
   "metadata": {},
   "outputs": [],
   "source": [
    "import pandas as pd\n",
    "\n",
    "from src import akeneo, config"
   ]
  },
  {
   "cell_type": "markdown",
   "metadata": {},
   "source": [
    "## Loading Resources"
   ]
  },
  {
   "cell_type": "code",
   "execution_count": 10,
   "metadata": {},
   "outputs": [
    {
     "data": {
      "text/html": [
       "<div>\n",
       "<style scoped>\n",
       "    .dataframe tbody tr th:only-of-type {\n",
       "        vertical-align: middle;\n",
       "    }\n",
       "\n",
       "    .dataframe tbody tr th {\n",
       "        vertical-align: top;\n",
       "    }\n",
       "\n",
       "    .dataframe thead th {\n",
       "        text-align: right;\n",
       "    }\n",
       "</style>\n",
       "<table border=\"1\" class=\"dataframe\">\n",
       "  <thead>\n",
       "    <tr style=\"text-align: right;\">\n",
       "      <th></th>\n",
       "      <th>code</th>\n",
       "      <th>type_akeneo</th>\n",
       "      <th>type_icecat</th>\n",
       "      <th>target_type</th>\n",
       "    </tr>\n",
       "  </thead>\n",
       "  <tbody>\n",
       "    <tr>\n",
       "      <th>0</th>\n",
       "      <td>icecat_1024</td>\n",
       "      <td>pim_catalog_text</td>\n",
       "      <td>dropdown</td>\n",
       "      <td>pim_catalog_simpleselect</td>\n",
       "    </tr>\n",
       "    <tr>\n",
       "      <th>1</th>\n",
       "      <td>icecat_12435</td>\n",
       "      <td>pim_catalog_text</td>\n",
       "      <td>numerical</td>\n",
       "      <td>pim_catalog_number</td>\n",
       "    </tr>\n",
       "    <tr>\n",
       "      <th>2</th>\n",
       "      <td>icecat_12437</td>\n",
       "      <td>pim_catalog_text</td>\n",
       "      <td>numerical</td>\n",
       "      <td>pim_catalog_number</td>\n",
       "    </tr>\n",
       "    <tr>\n",
       "      <th>3</th>\n",
       "      <td>icecat_13246</td>\n",
       "      <td>pim_catalog_text</td>\n",
       "      <td>numerical</td>\n",
       "      <td>pim_catalog_number</td>\n",
       "    </tr>\n",
       "    <tr>\n",
       "      <th>4</th>\n",
       "      <td>icecat_13248</td>\n",
       "      <td>pim_catalog_simpleselect</td>\n",
       "      <td>multi_dropdown</td>\n",
       "      <td>pim_catalog_multiselect</td>\n",
       "    </tr>\n",
       "    <tr>\n",
       "      <th>...</th>\n",
       "      <td>...</td>\n",
       "      <td>...</td>\n",
       "      <td>...</td>\n",
       "      <td>...</td>\n",
       "    </tr>\n",
       "    <tr>\n",
       "      <th>58</th>\n",
       "      <td>icecat_8072</td>\n",
       "      <td>pim_catalog_simpleselect</td>\n",
       "      <td>multi_dropdown</td>\n",
       "      <td>pim_catalog_multiselect</td>\n",
       "    </tr>\n",
       "    <tr>\n",
       "      <th>59</th>\n",
       "      <td>icecat_8367</td>\n",
       "      <td>pim_catalog_simpleselect</td>\n",
       "      <td>multi_dropdown</td>\n",
       "      <td>pim_catalog_multiselect</td>\n",
       "    </tr>\n",
       "    <tr>\n",
       "      <th>60</th>\n",
       "      <td>icecat_8745</td>\n",
       "      <td>pim_catalog_simpleselect</td>\n",
       "      <td>multi_dropdown</td>\n",
       "      <td>pim_catalog_multiselect</td>\n",
       "    </tr>\n",
       "    <tr>\n",
       "      <th>61</th>\n",
       "      <td>icecat_898</td>\n",
       "      <td>pim_catalog_simpleselect</td>\n",
       "      <td>multi_dropdown</td>\n",
       "      <td>pim_catalog_multiselect</td>\n",
       "    </tr>\n",
       "    <tr>\n",
       "      <th>62</th>\n",
       "      <td>icecat_9780</td>\n",
       "      <td>pim_catalog_simpleselect</td>\n",
       "      <td>multi_dropdown</td>\n",
       "      <td>pim_catalog_multiselect</td>\n",
       "    </tr>\n",
       "  </tbody>\n",
       "</table>\n",
       "<p>63 rows × 4 columns</p>\n",
       "</div>"
      ],
      "text/plain": [
       "            code               type_akeneo     type_icecat  \\\n",
       "0    icecat_1024          pim_catalog_text        dropdown   \n",
       "1   icecat_12435          pim_catalog_text       numerical   \n",
       "2   icecat_12437          pim_catalog_text       numerical   \n",
       "3   icecat_13246          pim_catalog_text       numerical   \n",
       "4   icecat_13248  pim_catalog_simpleselect  multi_dropdown   \n",
       "..           ...                       ...             ...   \n",
       "58   icecat_8072  pim_catalog_simpleselect  multi_dropdown   \n",
       "59   icecat_8367  pim_catalog_simpleselect  multi_dropdown   \n",
       "60   icecat_8745  pim_catalog_simpleselect  multi_dropdown   \n",
       "61    icecat_898  pim_catalog_simpleselect  multi_dropdown   \n",
       "62   icecat_9780  pim_catalog_simpleselect  multi_dropdown   \n",
       "\n",
       "                 target_type  \n",
       "0   pim_catalog_simpleselect  \n",
       "1         pim_catalog_number  \n",
       "2         pim_catalog_number  \n",
       "3         pim_catalog_number  \n",
       "4    pim_catalog_multiselect  \n",
       "..                       ...  \n",
       "58   pim_catalog_multiselect  \n",
       "59   pim_catalog_multiselect  \n",
       "60   pim_catalog_multiselect  \n",
       "61   pim_catalog_multiselect  \n",
       "62   pim_catalog_multiselect  \n",
       "\n",
       "[63 rows x 4 columns]"
      ]
     },
     "execution_count": 10,
     "metadata": {},
     "output_type": "execute_result"
    }
   ],
   "source": [
    "fixes_df = pd.read_csv(config.dir_data / \"dataset\" / \"attributes-fixes.csv\")\n",
    "fixes_df"
   ]
  },
  {
   "cell_type": "code",
   "execution_count": null,
   "metadata": {},
   "outputs": [],
   "source": [
    "client = akeneo.create_client_from_env()"
   ]
  },
  {
   "cell_type": "markdown",
   "metadata": {},
   "source": [
    "## Fixing Values"
   ]
  },
  {
   "cell_type": "code",
   "execution_count": 15,
   "metadata": {},
   "outputs": [],
   "source": [
    "def extract_locales(values: list[dict]) -> dict:\n",
    "    result = {}\n",
    "    for value in values:\n",
    "        locale = value[\"locale\"]\n",
    "        data = value[\"data\"]\n",
    "        if locale not in result:\n",
    "            result[locale] = data\n",
    "    return result"
   ]
  },
  {
   "cell_type": "code",
   "execution_count": 51,
   "metadata": {},
   "outputs": [],
   "source": [
    "def to_code(label: str) -> str:\n",
    "    return (\n",
    "        label.lower()\n",
    "        .replace(\"(\", \"\")\n",
    "        .replace(\")\", \"\")\n",
    "        .replace(\"-\", \"_\")\n",
    "        .replace(\".\", \"_\")\n",
    "        .replace(\"@\", \"_at_\")\n",
    "        .replace(\"+\", \"plus\")\n",
    "        .strip()\n",
    "        .replace(\" \", \"_\")\n",
    "    )"
   ]
  },
  {
   "cell_type": "markdown",
   "metadata": {},
   "source": [
    "### Fix Numbers"
   ]
  },
  {
   "cell_type": "code",
   "execution_count": 60,
   "metadata": {},
   "outputs": [],
   "source": [
    "def fix_number(attr_code: str) -> list[str]:\n",
    "    logs = []\n",
    "\n",
    "    attr_code_fix = f\"{attr_code}_fixed\"\n",
    "    products = client.request(\"pim_api_product_list\", params={\"attributes\": attr_code})\n",
    "    for product in products:\n",
    "        if attr_code not in product[\"values\"]: continue\n",
    "\n",
    "        prod_id = product[\"identifier\"]\n",
    "        values = product[\"values\"][attr_code]\n",
    "\n",
    "        locales = extract_locales(values)\n",
    "        num = float(locales[\"en_US\"].strip())\n",
    "        \n",
    "        for i in range(len(values)):\n",
    "            values[i][\"data\"] = num\n",
    "            \n",
    "        res = client.request(\n",
    "            \"pim_api_product_partial_update\",\n",
    "            {\"code\": prod_id},\n",
    "            {\"values\": {attr_code_fix: values}},\n",
    "        )\n",
    "        logs.append(f\"update product {prod_id} => {res}\")\n",
    "\n",
    "    return logs"
   ]
  },
  {
   "cell_type": "code",
   "execution_count": 61,
   "metadata": {},
   "outputs": [],
   "source": [
    "logs_numbers = []\n",
    "\n",
    "numbers = fixes_df[fixes_df[\"target_type\"] == \"pim_catalog_number\"]\n",
    "for attr_code in numbers[\"code\"]:\n",
    "    log = fix_number(attr_code)\n",
    "    logs_numbers.append(log)"
   ]
  },
  {
   "cell_type": "markdown",
   "metadata": {},
   "source": [
    "### Fix Single Selects"
   ]
  },
  {
   "cell_type": "code",
   "execution_count": 52,
   "metadata": {},
   "outputs": [],
   "source": [
    "def fix_single_select(attr_code: str) -> list[str]:\n",
    "    logs = []\n",
    "\n",
    "    options: set[str] = set()\n",
    "    attr_code_fix = f\"{attr_code}_fixed\"\n",
    "\n",
    "    products = client.request(\"pim_api_product_list\", params={\"attributes\": attr_code})\n",
    "    for product in products:\n",
    "        if attr_code not in product[\"values\"]: continue\n",
    "\n",
    "        prod_id = product[\"identifier\"]\n",
    "        values = product[\"values\"][attr_code]\n",
    "\n",
    "        locales = extract_locales(values)\n",
    "        opt_code = to_code(locales[\"en_US\"])\n",
    "\n",
    "        if opt_code not in options:\n",
    "            res = client.request(\n",
    "                \"pim_api_attribute_option_partial_update\",\n",
    "                {\"attributeCode\": attr_code_fix, \"code\": opt_code},\n",
    "                {\"labels\": locales},\n",
    "            )\n",
    "            logs.append(f\"Add {opt_code} to {attr_code_fix} => {res}\")\n",
    "            options.add(opt_code)\n",
    "\n",
    "        for i in range(len(values)):\n",
    "            values[i][\"data\"] = opt_code\n",
    "        res = client.request(\n",
    "            \"pim_api_product_partial_update\",\n",
    "            {\"code\": prod_id},\n",
    "            {\"values\": {attr_code_fix: values}},\n",
    "        )\n",
    "        logs.append(f\"update product {prod_id} => {res}\")\n",
    "\n",
    "    return logs"
   ]
  },
  {
   "cell_type": "code",
   "execution_count": 21,
   "metadata": {},
   "outputs": [],
   "source": [
    "logs_single_selects = []\n",
    "\n",
    "simple_selects = fixes_df[fixes_df[\"target_type\"] == \"pim_catalog_simpleselect\"]\n",
    "for attr_code in simple_selects[\"code\"]:\n",
    "    log = fix_single_select(attr_code)\n",
    "    logs_single_selects.append(log)"
   ]
  },
  {
   "cell_type": "markdown",
   "metadata": {},
   "source": [
    "### Fix Multi Selects"
   ]
  },
  {
   "cell_type": "code",
   "execution_count": 53,
   "metadata": {},
   "outputs": [
    {
     "data": {
      "text/plain": [
       "({'348497133': ['silicone'],\n",
       "  '348497265': ['silicone'],\n",
       "  '348497633': ['polyethylene_terephthalate_pet'],\n",
       "  '348497805': ['leather'],\n",
       "  '348497814': ['leather'],\n",
       "  '348832151': ['tempered_glass', 'thermoplastic_polyurethane_tpu'],\n",
       "  '348832844': ['tempered_glass', 'thermoplastic_polyurethane_tpu'],\n",
       "  '367992077': ['silicone', 'thermoplastic_polyurethane_tpu'],\n",
       "  '367992090': ['silicone', 'thermoplastic_polyurethane_tpu'],\n",
       "  '409367243': ['rubber'],\n",
       "  '409368369': ['rubber'],\n",
       "  '409601264': ['microfiber', 'silicone'],\n",
       "  '409601297': ['microfibre', 'silicone'],\n",
       "  '428874343': ['thermoplastic_polyurethane_tpu', 'silicone'],\n",
       "  '428874357': ['thermoplastic_polyurethane_tpu', 'silicone'],\n",
       "  '428875574': ['polycarbonate_pc'],\n",
       "  '442880730': ['polycarbonate_pc', 'thermoplastic_polyurethane_tpu'],\n",
       "  '442880733': ['polycarbonate_pc', 'thermoplastic_polyurethane_tpu'],\n",
       "  '460421316': ['thermoplastic_polyurethane_tpu'],\n",
       "  '460421840': ['microfiber', 'silicone'],\n",
       "  'leather': ['leather'],\n",
       "  'microfiber': ['microfiber'],\n",
       "  'microfibre': ['microfibre'],\n",
       "  'polycarbonate_pc': ['polycarbonate_pc'],\n",
       "  'polyethylene_terephthalate_pet': ['polyethylene_terephthalate_pet'],\n",
       "  'rubber': ['rubber'],\n",
       "  'silicone': ['silicone'],\n",
       "  'tempered_glass': ['tempered_glass'],\n",
       "  'thermoplastic_polyurethane_tpu': ['thermoplastic_polyurethane_tpu']},\n",
       " {'silicone': {'labels': {'en_US': 'Silicone',\n",
       "    'en_GB': 'Silicone',\n",
       "    'de_DE': 'Silikon'}},\n",
       "  'polyethylene_terephthalate_pet': {'labels': {'en_US': 'Polyethylene terephthalate (PET)',\n",
       "    'en_GB': 'Polyethylene terephthalate (PET)',\n",
       "    'de_DE': 'Polyethylenterephthalat'}},\n",
       "  'leather': {'labels': {'en_US': 'Leather',\n",
       "    'en_GB': 'Leather',\n",
       "    'de_DE': 'Leather'}},\n",
       "  'tempered_glass': {'labels': {'en_US': 'Tempered glass',\n",
       "    'en_GB': 'Tempered glass',\n",
       "    'de_DE': 'Gehärtetes Glas'}},\n",
       "  'thermoplastic_polyurethane_tpu': {'labels': {'en_US': 'Thermoplastic polyurethane (TPU)',\n",
       "    'en_GB': 'Thermoplastic polyurethane (TPU)',\n",
       "    'de_DE': 'Thermoplastische Polyurethane (TPU)'}},\n",
       "  'rubber': {'labels': {'en_US': 'Rubber',\n",
       "    'en_GB': 'Rubber',\n",
       "    'de_DE': 'Rubber'}},\n",
       "  'microfiber': {'labels': {'en_US': 'Microfiber',\n",
       "    'en_GB': 'Microfiber',\n",
       "    'de_DE': 'Microfiber'}},\n",
       "  'microfibre': {'labels': {'en_US': 'Microfibre',\n",
       "    'en_GB': 'Microfibre',\n",
       "    'de_DE': 'Microfibre'}},\n",
       "  'polycarbonate_pc': {'labels': {'en_US': 'Polycarbonate (PC)',\n",
       "    'en_GB': 'Polycarbonate (PC)',\n",
       "    'de_DE': 'Polycarbonat (PC)'}}})"
      ]
     },
     "execution_count": 53,
     "metadata": {},
     "output_type": "execute_result"
    }
   ],
   "source": [
    "def extract_multi_options(attr_code: str):\n",
    "    map_options: dict[str, list[str]] = {}\n",
    "    options: dict[str, dict] = {}\n",
    "\n",
    "    attr_opts = client.request(\n",
    "        \"pim_api_attribute_option_list\", {\"attributeCode\": attr_code}\n",
    "    )\n",
    "    for attr_opt in attr_opts:\n",
    "        code = attr_opt[\"code\"]\n",
    "        opts = list(map(to_code, (\n",
    "            attr_opt[\"labels\"][\"en_US\"].split(\",\")\n",
    "        )))\n",
    "        ens = attr_opt[\"labels\"][\"en_US\"].split(\",\")\n",
    "        des = attr_opt[\"labels\"][\"de_DE\"].split(\",\")\n",
    "        for i in range(len(opts)):\n",
    "            if opts[i] not in options:\n",
    "                options[opts[i]] = {\n",
    "                    \"labels\": {\n",
    "                        \"en_US\": ens[i].strip(),\n",
    "                        \"en_GB\": ens[i].strip(),\n",
    "                        \"de_DE\": des[i].strip(),\n",
    "                    }\n",
    "                }\n",
    "        map_options[code] = opts\n",
    "\n",
    "    return map_options, options\n",
    "\n",
    "extract_multi_options(\"icecat_898\")"
   ]
  },
  {
   "cell_type": "code",
   "execution_count": 54,
   "metadata": {},
   "outputs": [],
   "source": [
    "def add_multi_options(attr_code: str, options: dict[str, dict]) -> list[str]:\n",
    "    logs = []\n",
    "    for opt_code, body in options.items():\n",
    "        res = client.request(\n",
    "            \"pim_api_attribute_option_partial_update\",\n",
    "            {\"attributeCode\": attr_code, \"code\": opt_code},\n",
    "            body,\n",
    "        )\n",
    "        logs.append(f\"Add {opt_code} to {attr_code} => {res}\")\n",
    "    return logs"
   ]
  },
  {
   "cell_type": "code",
   "execution_count": 55,
   "metadata": {},
   "outputs": [],
   "source": [
    "def add_multi_options_to_products(attr_code: str, map_options: dict[str, list[str]]) -> list[str]:\n",
    "    logs = []\n",
    "    products = client.request(\"pim_api_product_list\", params={\"attributes\": attr_code})\n",
    "    for product in products:\n",
    "        prod_id = product[\"identifier\"]\n",
    "        if attr_code in product[\"values\"]:\n",
    "            values = product[\"values\"][attr_code]\n",
    "            for i in range(len(values)):\n",
    "                values[i][\"data\"] = map_options[values[i][\"data\"]]\n",
    "            res = client.request(\n",
    "                \"pim_api_product_partial_update\",\n",
    "                {\"code\": prod_id},\n",
    "                {\"values\": {f\"{attr_code}_fixed\": values}},\n",
    "            )\n",
    "            logs.append(f\"update product {prod_id} => {res}\")\n",
    "    return logs"
   ]
  },
  {
   "cell_type": "code",
   "execution_count": 56,
   "metadata": {},
   "outputs": [],
   "source": [
    "def fix_multi_select(attr_code: str) -> list[str]:\n",
    "    logs = []\n",
    "    \n",
    "    mapping, options = extract_multi_options(attr_code)\n",
    "    logs.append(f\"mapping: {mapping}, options: {options}\")\n",
    "\n",
    "    logs += add_multi_options(f\"{attr_code}_fixed\", options)\n",
    "    logs += add_multi_options_to_products(attr_code, mapping)\n",
    "\n",
    "    return logs"
   ]
  },
  {
   "cell_type": "code",
   "execution_count": 57,
   "metadata": {},
   "outputs": [],
   "source": [
    "logs_multi_selects = []\n",
    "\n",
    "multi_selects = fixes_df[fixes_df[\"target_type\"] == \"pim_catalog_multiselect\"]\n",
    "for attr_code in multi_selects[\"code\"]:\n",
    "    log = fix_multi_select(attr_code)\n",
    "    logs_multi_selects.append(log)"
   ]
  }
 ],
 "metadata": {
  "interpreter": {
   "hash": "2e5f538519eb6295833d34b6b2b64def2e17ecdccc08ac7b02c21eca857bcbe3"
  },
  "kernelspec": {
   "display_name": "Python 3.9.10 ('cluster-analysis-fd520k80')",
   "language": "python",
   "name": "python3"
  },
  "language_info": {
   "codemirror_mode": {
    "name": "ipython",
    "version": 3
   },
   "file_extension": ".py",
   "mimetype": "text/x-python",
   "name": "python",
   "nbconvert_exporter": "python",
   "pygments_lexer": "ipython3",
   "version": "3.9.6"
  },
  "orig_nbformat": 4
 },
 "nbformat": 4,
 "nbformat_minor": 2
}
