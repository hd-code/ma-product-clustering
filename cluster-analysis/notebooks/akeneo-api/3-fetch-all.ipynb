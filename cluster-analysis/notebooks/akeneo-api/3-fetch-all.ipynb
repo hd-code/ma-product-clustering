{
 "cells": [
  {
   "cell_type": "code",
   "execution_count": 1,
   "metadata": {},
   "outputs": [],
   "source": [
    "from pathlib import Path\n",
    "import shutil\n",
    "\n",
    "from src import akeneo, config"
   ]
  },
  {
   "cell_type": "code",
   "execution_count": 2,
   "metadata": {},
   "outputs": [],
   "source": [
    "dir_cache: Path = config.dir_data / config.env[\"AKENEO_CACHE_DIR\"]\n",
    "shutil.rmtree(dir_cache, ignore_errors=True)\n",
    "dir_cache.mkdir(parents=True, exist_ok=True)"
   ]
  },
  {
   "cell_type": "code",
   "execution_count": 3,
   "metadata": {},
   "outputs": [],
   "source": [
    "akeneo.fetch_with_client_from_env()"
   ]
  }
 ],
 "metadata": {
  "interpreter": {
   "hash": "2e5f538519eb6295833d34b6b2b64def2e17ecdccc08ac7b02c21eca857bcbe3"
  },
  "kernelspec": {
   "display_name": "Python 3.9.10 ('cluster-analysis-fd520k80')",
   "language": "python",
   "name": "python3"
  },
  "language_info": {
   "codemirror_mode": {
    "name": "ipython",
    "version": 3
   },
   "file_extension": ".py",
   "mimetype": "text/x-python",
   "name": "python",
   "nbconvert_exporter": "python",
   "pygments_lexer": "ipython3",
   "version": "3.9.10"
  },
  "orig_nbformat": 4
 },
 "nbformat": 4,
 "nbformat_minor": 2
}
