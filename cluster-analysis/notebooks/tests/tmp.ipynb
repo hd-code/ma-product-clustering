{
 "cells": [
  {
   "cell_type": "code",
   "execution_count": 1,
   "metadata": {},
   "outputs": [],
   "source": [
    "from sklearn import metrics"
   ]
  },
  {
   "cell_type": "code",
   "execution_count": 8,
   "metadata": {},
   "outputs": [
    {
     "data": {
      "text/plain": [
       "(0.14285714285714285, 1.0)"
      ]
     },
     "execution_count": 8,
     "metadata": {},
     "output_type": "execute_result"
    }
   ],
   "source": [
    "x = [0,0,0,1,1,1,2]\n",
    "y = [1,1,1,0,0,0,2]\n",
    "\n",
    "metrics.f1_score(x, y, average=\"micro\"), metrics.adjusted_rand_score(x, y)"
   ]
  },
  {
   "cell_type": "code",
   "execution_count": 2,
   "metadata": {},
   "outputs": [
    {
     "data": {
      "text/plain": [
       "(\"{'b', 'a'}\", \"{'b', 'a'}\", \"{'b', 'a', 'c'}\", \"{'a'}\")"
      ]
     },
     "execution_count": 2,
     "metadata": {},
     "output_type": "execute_result"
    }
   ],
   "source": [
    "x1 = {\"a\", \"b\"}\n",
    "x2 = {\"a\", \"b\"}\n",
    "x3 = {\"a\", \"b\", \"c\"}\n",
    "x4 = {\"a\"}\n",
    "\n",
    "str(x1), str(x2), str(x3), str(x4)"
   ]
  },
  {
   "cell_type": "code",
   "execution_count": 17,
   "metadata": {},
   "outputs": [
    {
     "data": {
      "text/plain": [
       "'a,b'"
      ]
     },
     "execution_count": 17,
     "metadata": {},
     "output_type": "execute_result"
    }
   ],
   "source": [
    "x = {\"a\", \"b\"}\n",
    "\n",
    "y = list(x)\n",
    "y.sort()\n",
    "\",\".join(y)"
   ]
  },
  {
   "cell_type": "code",
   "execution_count": 5,
   "metadata": {},
   "outputs": [
    {
     "name": "stdout",
     "output_type": "stream",
     "text": [
      "{'b', 'a'}\n",
      "{'b', 'a'}\n",
      "{'b', 'a'}\n",
      "{'b', 'a'}\n",
      "{'b', 'a'}\n",
      "{'b', 'a'}\n",
      "{'b', 'a'}\n",
      "{'b', 'a'}\n",
      "{'b', 'a'}\n",
      "{'b', 'a'}\n",
      "{'b', 'a'}\n",
      "{'b', 'a'}\n",
      "{'b', 'a'}\n",
      "{'b', 'a'}\n",
      "{'b', 'a'}\n",
      "{'b', 'a'}\n",
      "{'b', 'a'}\n",
      "{'b', 'a'}\n",
      "{'b', 'a'}\n",
      "{'b', 'a'}\n",
      "{'b', 'a'}\n",
      "{'b', 'a'}\n",
      "{'b', 'a'}\n",
      "{'b', 'a'}\n",
      "{'b', 'a'}\n",
      "{'b', 'a'}\n",
      "{'b', 'a'}\n",
      "{'b', 'a'}\n",
      "{'b', 'a'}\n",
      "{'b', 'a'}\n",
      "{'b', 'a'}\n",
      "{'b', 'a'}\n",
      "{'b', 'a'}\n",
      "{'b', 'a'}\n",
      "{'b', 'a'}\n",
      "{'b', 'a'}\n",
      "{'b', 'a'}\n",
      "{'b', 'a'}\n",
      "{'b', 'a'}\n",
      "{'b', 'a'}\n",
      "{'b', 'a'}\n",
      "{'b', 'a'}\n",
      "{'b', 'a'}\n",
      "{'b', 'a'}\n",
      "{'b', 'a'}\n",
      "{'b', 'a'}\n",
      "{'b', 'a'}\n",
      "{'b', 'a'}\n",
      "{'b', 'a'}\n",
      "{'b', 'a'}\n",
      "{'b', 'a'}\n",
      "{'b', 'a'}\n",
      "{'b', 'a'}\n",
      "{'b', 'a'}\n",
      "{'b', 'a'}\n",
      "{'b', 'a'}\n",
      "{'b', 'a'}\n",
      "{'b', 'a'}\n",
      "{'b', 'a'}\n",
      "{'b', 'a'}\n",
      "{'b', 'a'}\n",
      "{'b', 'a'}\n",
      "{'b', 'a'}\n",
      "{'b', 'a'}\n",
      "{'b', 'a'}\n",
      "{'b', 'a'}\n",
      "{'b', 'a'}\n",
      "{'b', 'a'}\n",
      "{'b', 'a'}\n",
      "{'b', 'a'}\n",
      "{'b', 'a'}\n",
      "{'b', 'a'}\n",
      "{'b', 'a'}\n",
      "{'b', 'a'}\n",
      "{'b', 'a'}\n",
      "{'b', 'a'}\n",
      "{'b', 'a'}\n",
      "{'b', 'a'}\n",
      "{'b', 'a'}\n",
      "{'b', 'a'}\n",
      "{'b', 'a'}\n",
      "{'b', 'a'}\n",
      "{'b', 'a'}\n",
      "{'b', 'a'}\n",
      "{'b', 'a'}\n",
      "{'b', 'a'}\n",
      "{'b', 'a'}\n",
      "{'b', 'a'}\n",
      "{'b', 'a'}\n",
      "{'b', 'a'}\n",
      "{'b', 'a'}\n",
      "{'b', 'a'}\n",
      "{'b', 'a'}\n",
      "{'b', 'a'}\n",
      "{'b', 'a'}\n",
      "{'b', 'a'}\n",
      "{'b', 'a'}\n",
      "{'b', 'a'}\n",
      "{'b', 'a'}\n",
      "{'b', 'a'}\n"
     ]
    }
   ],
   "source": [
    "for _ in range(100):\n",
    "    print(str({\"a\", \"b\"}))"
   ]
  }
 ],
 "metadata": {
  "interpreter": {
   "hash": "2e5f538519eb6295833d34b6b2b64def2e17ecdccc08ac7b02c21eca857bcbe3"
  },
  "kernelspec": {
   "display_name": "Python 3.9.10 ('cluster-analysis-fd520k80')",
   "language": "python",
   "name": "python3"
  },
  "language_info": {
   "codemirror_mode": {
    "name": "ipython",
    "version": 3
   },
   "file_extension": ".py",
   "mimetype": "text/x-python",
   "name": "python",
   "nbconvert_exporter": "python",
   "pygments_lexer": "ipython3",
   "version": "3.9.12"
  },
  "orig_nbformat": 4
 },
 "nbformat": 4,
 "nbformat_minor": 2
}
