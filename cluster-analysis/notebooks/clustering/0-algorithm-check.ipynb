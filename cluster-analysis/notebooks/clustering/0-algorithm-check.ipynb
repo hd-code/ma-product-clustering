{
 "cells": [
  {
   "cell_type": "code",
   "execution_count": 1,
   "metadata": {},
   "outputs": [],
   "source": [
    "import numpy as np\n",
    "import pandas as pd\n",
    "\n",
    "from kmodes.kmodes import KModes\n",
    "from kmodes.kprototypes import KPrototypes\n",
    "from sklearn.cluster import KMeans\n",
    "from sklearn.metrics import adjusted_rand_score, silhouette_score\n",
    "\n",
    "from src import akeneo, akeneo_clustering, clustering"
   ]
  },
  {
   "cell_type": "code",
   "execution_count": 2,
   "metadata": {},
   "outputs": [],
   "source": [
    "cache = akeneo.create_cache_from_env()"
   ]
  },
  {
   "cell_type": "code",
   "execution_count": 3,
   "metadata": {},
   "outputs": [
    {
     "data": {
      "text/html": [
       "<div>\n",
       "<style scoped>\n",
       "    .dataframe tbody tr th:only-of-type {\n",
       "        vertical-align: middle;\n",
       "    }\n",
       "\n",
       "    .dataframe tbody tr th {\n",
       "        vertical-align: top;\n",
       "    }\n",
       "\n",
       "    .dataframe thead th {\n",
       "        text-align: right;\n",
       "    }\n",
       "</style>\n",
       "<table border=\"1\" class=\"dataframe\">\n",
       "  <thead>\n",
       "    <tr style=\"text-align: right;\">\n",
       "      <th></th>\n",
       "      <th>code</th>\n",
       "      <th>labels</th>\n",
       "      <th>attributes</th>\n",
       "      <th>attribute_requirements</th>\n",
       "    </tr>\n",
       "  </thead>\n",
       "  <tbody>\n",
       "    <tr>\n",
       "      <th>0</th>\n",
       "      <td>mobile_phone_cases</td>\n",
       "      <td>{'en_US': 'Mobile Phone Cases', 'en_GB': 'Mobi...</td>\n",
       "      <td>[ean, icecat_12935, icecat_1464, icecat_15767,...</td>\n",
       "      <td>{'default': ['ean', 'icecat_6767', 'icecat_815...</td>\n",
       "    </tr>\n",
       "    <tr>\n",
       "      <th>1</th>\n",
       "      <td>smartphones</td>\n",
       "      <td>{'en_US': 'Smartphones', 'en_GB': 'Smartphones...</td>\n",
       "      <td>[ean, icecat_10035, icecat_10101, icecat_10102...</td>\n",
       "      <td>{'default': ['ean', 'icecat_11379', 'icecat_12...</td>\n",
       "    </tr>\n",
       "  </tbody>\n",
       "</table>\n",
       "</div>"
      ],
      "text/plain": [
       "                 code                                             labels  \\\n",
       "0  mobile_phone_cases  {'en_US': 'Mobile Phone Cases', 'en_GB': 'Mobi...   \n",
       "1         smartphones  {'en_US': 'Smartphones', 'en_GB': 'Smartphones...   \n",
       "\n",
       "                                          attributes  \\\n",
       "0  [ean, icecat_12935, icecat_1464, icecat_15767,...   \n",
       "1  [ean, icecat_10035, icecat_10101, icecat_10102...   \n",
       "\n",
       "                              attribute_requirements  \n",
       "0  {'default': ['ean', 'icecat_6767', 'icecat_815...  \n",
       "1  {'default': ['ean', 'icecat_11379', 'icecat_12...  "
      ]
     },
     "execution_count": 3,
     "metadata": {},
     "output_type": "execute_result"
    }
   ],
   "source": [
    "pd.DataFrame(cache.families)"
   ]
  },
  {
   "cell_type": "code",
   "execution_count": 4,
   "metadata": {},
   "outputs": [],
   "source": [
    "products = akeneo_clustering.parse_products(\n",
    "    cache,\n",
    "    product_family=\"mobile_phone_cases\",\n",
    "    attribute_types=akeneo_clustering.TYPES_NUMERICAL+akeneo_clustering.TYPES_CATEGORICAL,\n",
    ")"
   ]
  },
  {
   "cell_type": "code",
   "execution_count": 5,
   "metadata": {},
   "outputs": [
    {
     "name": "stdout",
     "output_type": "stream",
     "text": [
      "<class 'pandas.core.frame.DataFrame'>\n",
      "RangeIndex: 80 entries, 0 to 79\n",
      "Data columns (total 19 columns):\n",
      " #   Column              Non-Null Count  Dtype  \n",
      "---  ------              --------------  -----  \n",
      " 0   __categories__      80 non-null     object \n",
      " 1   __family__          80 non-null     object \n",
      " 2   __id__              80 non-null     object \n",
      " 3   icecat_1464         24 non-null     float64\n",
      " 4   icecat_15767        8 non-null      object \n",
      " 5   icecat_1649         24 non-null     float64\n",
      " 6   icecat_1650         24 non-null     float64\n",
      " 7   icecat_26241        1 non-null      object \n",
      " 8   icecat_27575_fixed  27 non-null     object \n",
      " 9   icecat_38673        6 non-null      object \n",
      " 10  icecat_4463_fixed   1 non-null      object \n",
      " 11  icecat_4860         58 non-null     object \n",
      " 12  icecat_6767         76 non-null     float64\n",
      " 13  icecat_8006         51 non-null     object \n",
      " 14  icecat_8156         79 non-null     object \n",
      " 15  icecat_8411         76 non-null     object \n",
      " 16  icecat_8778         76 non-null     object \n",
      " 17  icecat_94           24 non-null     float64\n",
      " 18  icecat_9689         1 non-null      float64\n",
      "dtypes: float64(6), object(13)\n",
      "memory usage: 12.0+ KB\n"
     ]
    }
   ],
   "source": [
    "products_df = pd.DataFrame(products).sort_index(axis=1)\n",
    "products_df.info()"
   ]
  },
  {
   "cell_type": "code",
   "execution_count": 6,
   "metadata": {},
   "outputs": [
    {
     "name": "stdout",
     "output_type": "stream",
     "text": [
      "<class 'pandas.core.frame.DataFrame'>\n",
      "Int64Index: 24 entries, 28 to 59\n",
      "Data columns (total 12 columns):\n",
      " #   Column          Non-Null Count  Dtype  \n",
      "---  ------          --------------  -----  \n",
      " 0   __categories__  24 non-null     object \n",
      " 1   __family__      24 non-null     object \n",
      " 2   __id__          24 non-null     object \n",
      " 3   icecat_1464     24 non-null     float64\n",
      " 4   icecat_1649     24 non-null     float64\n",
      " 5   icecat_1650     24 non-null     float64\n",
      " 6   icecat_4860     24 non-null     object \n",
      " 7   icecat_6767     24 non-null     float64\n",
      " 8   icecat_8156     24 non-null     object \n",
      " 9   icecat_8411     24 non-null     object \n",
      " 10  icecat_8778     24 non-null     object \n",
      " 11  icecat_94       24 non-null     float64\n",
      "dtypes: float64(5), object(7)\n",
      "memory usage: 2.4+ KB\n"
     ]
    }
   ],
   "source": [
    "products_filtered_df = products_df[~products_df[\"icecat_1649\"].isna()].dropna(axis=1)\n",
    "products_filtered_df.info()"
   ]
  },
  {
   "cell_type": "code",
   "execution_count": 7,
   "metadata": {},
   "outputs": [],
   "source": [
    "cols_num = [\"icecat_1464\", \"icecat_1649\", \"icecat_1650\", \"icecat_6767\", \"icecat_94\"]\n",
    "cols_cat = [\"icecat_4860\", \"icecat_8156\", \"icecat_8411\", \"icecat_8778\"]"
   ]
  },
  {
   "cell_type": "code",
   "execution_count": 8,
   "metadata": {},
   "outputs": [
    {
     "data": {
      "text/plain": [
       "array(['s20', 's20', 's20', 's20', 's20', 's20', 's20', 's20_ultra',\n",
       "       's20_ultra', 's20_ultra', 's20_ultra', 's20_ultra', 's20_ultra',\n",
       "       's20_ultra', 's20_ultra', 's20_ultra', 's20_ultra', 's20_plus',\n",
       "       's20_plus', 's20_plus', 's20_plus', 's20_plus', 's20_plus',\n",
       "       's21_fe'], dtype=object)"
      ]
     },
     "execution_count": 8,
     "metadata": {},
     "output_type": "execute_result"
    }
   ],
   "source": [
    "labels_want = products_filtered_df[\"__categories__\"].map(lambda x: x[0]).to_numpy()\n",
    "labels_want"
   ]
  },
  {
   "cell_type": "code",
   "execution_count": 9,
   "metadata": {},
   "outputs": [
    {
     "data": {
      "text/plain": [
       "0           s20\n",
       "7     s20_ultra\n",
       "17     s20_plus\n",
       "23       s21_fe\n",
       "dtype: object"
      ]
     },
     "execution_count": 9,
     "metadata": {},
     "output_type": "execute_result"
    }
   ],
   "source": [
    "labels_unique = pd.Series(labels_want).drop_duplicates()\n",
    "k = labels_unique.count()\n",
    "labels_unique"
   ]
  },
  {
   "cell_type": "code",
   "execution_count": 10,
   "metadata": {},
   "outputs": [],
   "source": [
    "prod_num = products_filtered_df[cols_num]\n",
    "prod_cat = products_filtered_df[cols_cat]\n",
    "prod_mix = products_filtered_df[cols_num + cols_cat]\n",
    "\n",
    "dataset_num = akeneo_clustering.dataset_from_records(prod_num.to_dict(\"records\"))\n",
    "dataset_cat = akeneo_clustering.dataset_from_records(prod_cat.to_dict(\"records\"))\n",
    "dataset_mix = akeneo_clustering.dataset_from_records(prod_mix.to_dict(\"records\"))\n",
    "\n",
    "numpy_num = prod_num.to_numpy()\n",
    "numpy_cat = prod_cat.to_numpy()\n",
    "numpy_mix = prod_mix.to_numpy()"
   ]
  },
  {
   "cell_type": "code",
   "execution_count": 11,
   "metadata": {},
   "outputs": [],
   "source": [
    "prox_mat_num = akeneo_clustering.calc_proximity_matrix(dataset_num)\n",
    "prox_mat_cat = akeneo_clustering.calc_proximity_matrix(dataset_cat)\n",
    "prox_mat_mix = akeneo_clustering.calc_proximity_matrix(dataset_mix)"
   ]
  },
  {
   "cell_type": "code",
   "execution_count": 12,
   "metadata": {},
   "outputs": [],
   "source": [
    "def calc_metrics(cluster_func, proximity_matrix):\n",
    "    labels = cluster_func(0)\n",
    "\n",
    "    stabilities = []\n",
    "    for i in range(1, 10):\n",
    "        labels_2 = cluster_func(i)\n",
    "        stabilities.append(adjusted_rand_score(labels, labels_2))\n",
    "\n",
    "    return {\n",
    "        \"Stabilität\": np.array(stabilities).mean(),\n",
    "        \"Qualität\": silhouette_score(proximity_matrix, labels, metric=\"precomputed\"),\n",
    "        \"Korrektheit\": adjusted_rand_score(labels_want, labels)\n",
    "    }"
   ]
  },
  {
   "cell_type": "code",
   "execution_count": 13,
   "metadata": {},
   "outputs": [
    {
     "data": {
      "text/html": [
       "<div>\n",
       "<style scoped>\n",
       "    .dataframe tbody tr th:only-of-type {\n",
       "        vertical-align: middle;\n",
       "    }\n",
       "\n",
       "    .dataframe tbody tr th {\n",
       "        vertical-align: top;\n",
       "    }\n",
       "\n",
       "    .dataframe thead th {\n",
       "        text-align: right;\n",
       "    }\n",
       "</style>\n",
       "<table border=\"1\" class=\"dataframe\">\n",
       "  <thead>\n",
       "    <tr style=\"text-align: right;\">\n",
       "      <th></th>\n",
       "      <th>Bi-KMeans HD</th>\n",
       "      <th>KMeans HD</th>\n",
       "      <th>KMeans SKLearn</th>\n",
       "    </tr>\n",
       "  </thead>\n",
       "  <tbody>\n",
       "    <tr>\n",
       "      <th>Stabilität</th>\n",
       "      <td>1.000000</td>\n",
       "      <td>0.961884</td>\n",
       "      <td>0.975408</td>\n",
       "    </tr>\n",
       "    <tr>\n",
       "      <th>Qualität</th>\n",
       "      <td>0.629768</td>\n",
       "      <td>0.647547</td>\n",
       "      <td>0.629768</td>\n",
       "    </tr>\n",
       "    <tr>\n",
       "      <th>Korrektheit</th>\n",
       "      <td>0.499604</td>\n",
       "      <td>0.536384</td>\n",
       "      <td>0.499604</td>\n",
       "    </tr>\n",
       "  </tbody>\n",
       "</table>\n",
       "</div>"
      ],
      "text/plain": [
       "             Bi-KMeans HD  KMeans HD  KMeans SKLearn\n",
       "Stabilität       1.000000   0.961884        0.975408\n",
       "Qualität         0.629768   0.647547        0.629768\n",
       "Korrektheit      0.499604   0.536384        0.499604"
      ]
     },
     "execution_count": 13,
     "metadata": {},
     "output_type": "execute_result"
    }
   ],
   "source": [
    "algos = [\n",
    "    (\"Bi-KMeans HD\", lambda x: clustering.BisectingKMeans(dataset_num, akeneo_clustering.Centroid, random_state=x).labels_flat(k)),\n",
    "    (\"KMeans HD\", lambda x: clustering.KMeans(dataset_num, akeneo_clustering.Centroid, k, random_state=x).labels),\n",
    "    (\"KMeans SKLearn\", lambda x: KMeans(k, init=\"random\", random_state=x).fit_predict(numpy_num)),\n",
    "]\n",
    "tmp = {}\n",
    "for name, cluster_func in algos:\n",
    "    tmp[name] = calc_metrics(cluster_func, prox_mat_num)\n",
    "pd.DataFrame(tmp)"
   ]
  },
  {
   "cell_type": "code",
   "execution_count": 14,
   "metadata": {},
   "outputs": [
    {
     "data": {
      "text/html": [
       "<div>\n",
       "<style scoped>\n",
       "    .dataframe tbody tr th:only-of-type {\n",
       "        vertical-align: middle;\n",
       "    }\n",
       "\n",
       "    .dataframe tbody tr th {\n",
       "        vertical-align: top;\n",
       "    }\n",
       "\n",
       "    .dataframe thead th {\n",
       "        text-align: right;\n",
       "    }\n",
       "</style>\n",
       "<table border=\"1\" class=\"dataframe\">\n",
       "  <thead>\n",
       "    <tr style=\"text-align: right;\">\n",
       "      <th></th>\n",
       "      <th>Bi-KMeans HD</th>\n",
       "      <th>KMeans HD</th>\n",
       "      <th>nicodv/KModes</th>\n",
       "    </tr>\n",
       "  </thead>\n",
       "  <tbody>\n",
       "    <tr>\n",
       "      <th>Stabilität</th>\n",
       "      <td>0.977108</td>\n",
       "      <td>0.565926</td>\n",
       "      <td>1.000000</td>\n",
       "    </tr>\n",
       "    <tr>\n",
       "      <th>Qualität</th>\n",
       "      <td>0.958333</td>\n",
       "      <td>-0.327778</td>\n",
       "      <td>0.958333</td>\n",
       "    </tr>\n",
       "    <tr>\n",
       "      <th>Korrektheit</th>\n",
       "      <td>0.083817</td>\n",
       "      <td>0.064060</td>\n",
       "      <td>0.083817</td>\n",
       "    </tr>\n",
       "  </tbody>\n",
       "</table>\n",
       "</div>"
      ],
      "text/plain": [
       "             Bi-KMeans HD  KMeans HD  nicodv/KModes\n",
       "Stabilität       0.977108   0.565926       1.000000\n",
       "Qualität         0.958333  -0.327778       0.958333\n",
       "Korrektheit      0.083817   0.064060       0.083817"
      ]
     },
     "execution_count": 14,
     "metadata": {},
     "output_type": "execute_result"
    }
   ],
   "source": [
    "algos = [\n",
    "    (\"Bi-KMeans HD\", lambda x: clustering.BisectingKMeans(dataset_cat, akeneo_clustering.Centroid, random_state=x).labels_flat(k)),\n",
    "    (\"KMeans HD\", lambda x: clustering.KMeans(dataset_cat, akeneo_clustering.Centroid, k, random_state=x).labels),\n",
    "    (\"nicodv/KModes\", lambda x: KModes(k, init=\"random\", random_state=x).fit_predict(numpy_cat)),\n",
    "]\n",
    "tmp = {}\n",
    "for name, cluster_func in algos:\n",
    "    tmp[name] = calc_metrics(cluster_func, prox_mat_cat)\n",
    "pd.DataFrame(tmp)"
   ]
  },
  {
   "cell_type": "code",
   "execution_count": 15,
   "metadata": {},
   "outputs": [
    {
     "data": {
      "text/html": [
       "<div>\n",
       "<style scoped>\n",
       "    .dataframe tbody tr th:only-of-type {\n",
       "        vertical-align: middle;\n",
       "    }\n",
       "\n",
       "    .dataframe tbody tr th {\n",
       "        vertical-align: top;\n",
       "    }\n",
       "\n",
       "    .dataframe thead th {\n",
       "        text-align: right;\n",
       "    }\n",
       "</style>\n",
       "<table border=\"1\" class=\"dataframe\">\n",
       "  <thead>\n",
       "    <tr style=\"text-align: right;\">\n",
       "      <th></th>\n",
       "      <th>Bi-KMeans HD</th>\n",
       "      <th>KMeans HD</th>\n",
       "      <th>nicodv/KPrototypes</th>\n",
       "    </tr>\n",
       "  </thead>\n",
       "  <tbody>\n",
       "    <tr>\n",
       "      <th>Stabilität</th>\n",
       "      <td>0.985825</td>\n",
       "      <td>1.000000</td>\n",
       "      <td>0.964562</td>\n",
       "    </tr>\n",
       "    <tr>\n",
       "      <th>Qualität</th>\n",
       "      <td>0.714892</td>\n",
       "      <td>0.714892</td>\n",
       "      <td>0.714892</td>\n",
       "    </tr>\n",
       "    <tr>\n",
       "      <th>Korrektheit</th>\n",
       "      <td>0.406219</td>\n",
       "      <td>0.406219</td>\n",
       "      <td>0.406219</td>\n",
       "    </tr>\n",
       "  </tbody>\n",
       "</table>\n",
       "</div>"
      ],
      "text/plain": [
       "             Bi-KMeans HD  KMeans HD  nicodv/KPrototypes\n",
       "Stabilität       0.985825   1.000000            0.964562\n",
       "Qualität         0.714892   0.714892            0.714892\n",
       "Korrektheit      0.406219   0.406219            0.406219"
      ]
     },
     "execution_count": 15,
     "metadata": {},
     "output_type": "execute_result"
    }
   ],
   "source": [
    "n_num = len(cols_num)\n",
    "n_cat = len(cols_cat)\n",
    "\n",
    "algos = [\n",
    "    (\"Bi-KMeans HD\", lambda x: clustering.BisectingKMeans(dataset_mix, akeneo_clustering.Centroid, random_state=x).labels_flat(k)),\n",
    "    (\"KMeans HD\", lambda x: clustering.KMeans(dataset_mix, akeneo_clustering.Centroid, k, random_state=x).labels),\n",
    "    (\"nicodv/KPrototypes\", lambda x: KPrototypes(k, init=\"random\", random_state=x).fit_predict(numpy_mix, categorical=list(range(n_num, n_num+n_cat)))),\n",
    "]\n",
    "tmp = {}\n",
    "for name, cluster_func in algos:\n",
    "    tmp[name] = calc_metrics(cluster_func, prox_mat_mix)\n",
    "pd.DataFrame(tmp)"
   ]
  }
 ],
 "metadata": {
  "interpreter": {
   "hash": "2e5f538519eb6295833d34b6b2b64def2e17ecdccc08ac7b02c21eca857bcbe3"
  },
  "kernelspec": {
   "display_name": "Python 3.9.10 ('cluster-analysis-fd520k80')",
   "language": "python",
   "name": "python3"
  },
  "language_info": {
   "codemirror_mode": {
    "name": "ipython",
    "version": 3
   },
   "file_extension": ".py",
   "mimetype": "text/x-python",
   "name": "python",
   "nbconvert_exporter": "python",
   "pygments_lexer": "ipython3",
   "version": "3.9.10"
  },
  "orig_nbformat": 4
 },
 "nbformat": 4,
 "nbformat_minor": 2
}
