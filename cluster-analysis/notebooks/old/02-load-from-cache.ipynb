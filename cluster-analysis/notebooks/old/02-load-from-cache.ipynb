{
 "cells": [
  {
   "cell_type": "code",
   "execution_count": 1,
   "metadata": {},
   "outputs": [],
   "source": [
    "from src import akeneo"
   ]
  },
  {
   "cell_type": "code",
   "execution_count": 2,
   "metadata": {},
   "outputs": [
    {
     "ename": "WrongTypeError",
     "evalue": "wrong value type for field \"labels\" - should be \"LocalStr\" instead of value \"{'de_DE': 'Auto exposure', 'en_US': 'Auto exposure', 'fr_FR': 'Auto exposure'}\" of type \"dict\"",
     "output_type": "error",
     "traceback": [
      "\u001b[0;31m---------------------------------------------------------------------------\u001b[0m",
      "\u001b[0;31mWrongTypeError\u001b[0m                            Traceback (most recent call last)",
      "\u001b[1;32m/Users/hd/dev/ma-product-clustering/cluster-analysis/notebooks/02-load-from-cache.ipynb Cell 2'\u001b[0m in \u001b[0;36m<module>\u001b[0;34m\u001b[0m\n\u001b[0;32m----> <a href='vscode-notebook-cell:/Users/hd/dev/ma-product-clustering/cluster-analysis/notebooks/02-load-from-cache.ipynb#ch0000001?line=0'>1</a>\u001b[0m cache \u001b[39m=\u001b[39m akeneo\u001b[39m.\u001b[39;49mload_cache_from_env()\n",
      "File \u001b[0;32m~/dev/ma-product-clustering/cluster-analysis/src/src/akeneo/util.py:60\u001b[0m, in \u001b[0;36mload_cache_from_env\u001b[0;34m()\u001b[0m\n\u001b[1;32m     <a href='file:///~/dev/ma-product-clustering/cluster-analysis/src/src/akeneo/util.py?line=57'>58</a>\u001b[0m currency \u001b[39m=\u001b[39m env[\u001b[39m\"\u001b[39m\u001b[39mAKENEO_CURRENCY\u001b[39m\u001b[39m\"\u001b[39m]\n\u001b[1;32m     <a href='file:///~/dev/ma-product-clustering/cluster-analysis/src/src/akeneo/util.py?line=58'>59</a>\u001b[0m locale \u001b[39m=\u001b[39m env[\u001b[39m\"\u001b[39m\u001b[39mAKENEO_LOCALE\u001b[39m\u001b[39m\"\u001b[39m]\n\u001b[0;32m---> <a href='file:///~/dev/ma-product-clustering/cluster-analysis/src/src/akeneo/util.py?line=59'>60</a>\u001b[0m Cache(data_dir, locale, currency, channel)\n",
      "File \u001b[0;32m~/dev/ma-product-clustering/cluster-analysis/src/src/akeneo/cache/cache.py:26\u001b[0m, in \u001b[0;36mCache.__init__\u001b[0;34m(self, data_dir, locale, currency, channel)\u001b[0m\n\u001b[1;32m     <a href='file:///~/dev/ma-product-clustering/cluster-analysis/src/src/akeneo/cache/cache.py?line=22'>23</a>\u001b[0m attr_data \u001b[39m=\u001b[39m \u001b[39mself\u001b[39m\u001b[39m.\u001b[39m_load_file(data_dir \u001b[39m/\u001b[39m \u001b[39m\"\u001b[39m\u001b[39mattributes.json\u001b[39m\u001b[39m\"\u001b[39m)\n\u001b[1;32m     <a href='file:///~/dev/ma-product-clustering/cluster-analysis/src/src/akeneo/cache/cache.py?line=23'>24</a>\u001b[0m meas_data \u001b[39m=\u001b[39m \u001b[39mself\u001b[39m\u001b[39m.\u001b[39m_load_file(data_dir \u001b[39m/\u001b[39m \u001b[39m\"\u001b[39m\u001b[39mmeasurements.json\u001b[39m\u001b[39m\"\u001b[39m)\n\u001b[0;32m---> <a href='file:///~/dev/ma-product-clustering/cluster-analysis/src/src/akeneo/cache/cache.py?line=25'>26</a>\u001b[0m \u001b[39mself\u001b[39m\u001b[39m.\u001b[39m_parser \u001b[39m=\u001b[39m Parser(locale, currency, channel, attr_data, meas_data)\n",
      "File \u001b[0;32m~/dev/ma-product-clustering/cluster-analysis/src/src/akeneo/cache/parser.py:20\u001b[0m, in \u001b[0;36mParser.__init__\u001b[0;34m(self, locale, currency, channel, attr_data, measurements_data)\u001b[0m\n\u001b[1;32m     <a href='file:///~/dev/ma-product-clustering/cluster-analysis/src/src/akeneo/cache/parser.py?line=16'>17</a>\u001b[0m \u001b[39mself\u001b[39m\u001b[39m.\u001b[39m_currency \u001b[39m=\u001b[39m currency\n\u001b[1;32m     <a href='file:///~/dev/ma-product-clustering/cluster-analysis/src/src/akeneo/cache/parser.py?line=17'>18</a>\u001b[0m \u001b[39mself\u001b[39m\u001b[39m.\u001b[39m_channel \u001b[39m=\u001b[39m channel\n\u001b[0;32m---> <a href='file:///~/dev/ma-product-clustering/cluster-analysis/src/src/akeneo/cache/parser.py?line=19'>20</a>\u001b[0m \u001b[39mself\u001b[39m\u001b[39m.\u001b[39m_attributes \u001b[39m=\u001b[39m \u001b[39mself\u001b[39;49m\u001b[39m.\u001b[39;49m_parse_list_to_dict(attr_data, models\u001b[39m.\u001b[39;49mAttribute, \u001b[39m\"\u001b[39;49m\u001b[39mcode\u001b[39;49m\u001b[39m\"\u001b[39;49m)\n\u001b[1;32m     <a href='file:///~/dev/ma-product-clustering/cluster-analysis/src/src/akeneo/cache/parser.py?line=20'>21</a>\u001b[0m \u001b[39mself\u001b[39m\u001b[39m.\u001b[39m_measurements \u001b[39m=\u001b[39m \u001b[39mself\u001b[39m\u001b[39m.\u001b[39m_parse_list_to_dict(\n\u001b[1;32m     <a href='file:///~/dev/ma-product-clustering/cluster-analysis/src/src/akeneo/cache/parser.py?line=21'>22</a>\u001b[0m     measurements_data, models\u001b[39m.\u001b[39mMeasurementFamily, \u001b[39m\"\u001b[39m\u001b[39mcode\u001b[39m\u001b[39m\"\u001b[39m\n\u001b[1;32m     <a href='file:///~/dev/ma-product-clustering/cluster-analysis/src/src/akeneo/cache/parser.py?line=22'>23</a>\u001b[0m )\n",
      "File \u001b[0;32m~/dev/ma-product-clustering/cluster-analysis/src/src/akeneo/cache/parser.py:34\u001b[0m, in \u001b[0;36mParser._parse_list_to_dict\u001b[0;34m(self, data, data_cls, key_prop)\u001b[0m\n\u001b[1;32m     <a href='file:///~/dev/ma-product-clustering/cluster-analysis/src/src/akeneo/cache/parser.py?line=29'>30</a>\u001b[0m \u001b[39mdef\u001b[39;00m \u001b[39m_parse_list_to_dict\u001b[39m(\n\u001b[1;32m     <a href='file:///~/dev/ma-product-clustering/cluster-analysis/src/src/akeneo/cache/parser.py?line=30'>31</a>\u001b[0m     \u001b[39mself\u001b[39m, data: Any, data_cls: Type[T], key_prop: \u001b[39mstr\u001b[39m\n\u001b[1;32m     <a href='file:///~/dev/ma-product-clustering/cluster-analysis/src/src/akeneo/cache/parser.py?line=31'>32</a>\u001b[0m ) \u001b[39m-\u001b[39m\u001b[39m>\u001b[39m \u001b[39mdict\u001b[39m[\u001b[39mstr\u001b[39m, T]:\n\u001b[1;32m     <a href='file:///~/dev/ma-product-clustering/cluster-analysis/src/src/akeneo/cache/parser.py?line=32'>33</a>\u001b[0m     config \u001b[39m=\u001b[39m Config(cast\u001b[39m=\u001b[39m[\u001b[39mbool\u001b[39m, \u001b[39mfloat\u001b[39m, \u001b[39mint\u001b[39m, models\u001b[39m.\u001b[39mAttributeType])\n\u001b[0;32m---> <a href='file:///~/dev/ma-product-clustering/cluster-analysis/src/src/akeneo/cache/parser.py?line=33'>34</a>\u001b[0m     entries \u001b[39m=\u001b[39m [from_dict(data_cls, d, config) \u001b[39mfor\u001b[39;00m d \u001b[39min\u001b[39;00m data]\n\u001b[1;32m     <a href='file:///~/dev/ma-product-clustering/cluster-analysis/src/src/akeneo/cache/parser.py?line=34'>35</a>\u001b[0m     result \u001b[39m=\u001b[39m {}\n\u001b[1;32m     <a href='file:///~/dev/ma-product-clustering/cluster-analysis/src/src/akeneo/cache/parser.py?line=35'>36</a>\u001b[0m     \u001b[39mfor\u001b[39;00m entry \u001b[39min\u001b[39;00m entries:\n",
      "File \u001b[0;32m~/dev/ma-product-clustering/cluster-analysis/src/src/akeneo/cache/parser.py:34\u001b[0m, in \u001b[0;36m<listcomp>\u001b[0;34m(.0)\u001b[0m\n\u001b[1;32m     <a href='file:///~/dev/ma-product-clustering/cluster-analysis/src/src/akeneo/cache/parser.py?line=29'>30</a>\u001b[0m \u001b[39mdef\u001b[39;00m \u001b[39m_parse_list_to_dict\u001b[39m(\n\u001b[1;32m     <a href='file:///~/dev/ma-product-clustering/cluster-analysis/src/src/akeneo/cache/parser.py?line=30'>31</a>\u001b[0m     \u001b[39mself\u001b[39m, data: Any, data_cls: Type[T], key_prop: \u001b[39mstr\u001b[39m\n\u001b[1;32m     <a href='file:///~/dev/ma-product-clustering/cluster-analysis/src/src/akeneo/cache/parser.py?line=31'>32</a>\u001b[0m ) \u001b[39m-\u001b[39m\u001b[39m>\u001b[39m \u001b[39mdict\u001b[39m[\u001b[39mstr\u001b[39m, T]:\n\u001b[1;32m     <a href='file:///~/dev/ma-product-clustering/cluster-analysis/src/src/akeneo/cache/parser.py?line=32'>33</a>\u001b[0m     config \u001b[39m=\u001b[39m Config(cast\u001b[39m=\u001b[39m[\u001b[39mbool\u001b[39m, \u001b[39mfloat\u001b[39m, \u001b[39mint\u001b[39m, models\u001b[39m.\u001b[39mAttributeType])\n\u001b[0;32m---> <a href='file:///~/dev/ma-product-clustering/cluster-analysis/src/src/akeneo/cache/parser.py?line=33'>34</a>\u001b[0m     entries \u001b[39m=\u001b[39m [from_dict(data_cls, d, config) \u001b[39mfor\u001b[39;00m d \u001b[39min\u001b[39;00m data]\n\u001b[1;32m     <a href='file:///~/dev/ma-product-clustering/cluster-analysis/src/src/akeneo/cache/parser.py?line=34'>35</a>\u001b[0m     result \u001b[39m=\u001b[39m {}\n\u001b[1;32m     <a href='file:///~/dev/ma-product-clustering/cluster-analysis/src/src/akeneo/cache/parser.py?line=35'>36</a>\u001b[0m     \u001b[39mfor\u001b[39;00m entry \u001b[39min\u001b[39;00m entries:\n",
      "File \u001b[0;32m~/.local/share/virtualenvs/cluster-analysis-fd520k80/lib/python3.9/site-packages/dacite/core.py:68\u001b[0m, in \u001b[0;36mfrom_dict\u001b[0;34m(data_class, data, config)\u001b[0m\n\u001b[1;32m     <a href='file:///~/.local/share/virtualenvs/cluster-analysis-fd520k80/lib/python3.9/site-packages/dacite/core.py?line=65'>66</a>\u001b[0m         \u001b[39mraise\u001b[39;00m\n\u001b[1;32m     <a href='file:///~/.local/share/virtualenvs/cluster-analysis-fd520k80/lib/python3.9/site-packages/dacite/core.py?line=66'>67</a>\u001b[0m     \u001b[39mif\u001b[39;00m config\u001b[39m.\u001b[39mcheck_types \u001b[39mand\u001b[39;00m \u001b[39mnot\u001b[39;00m is_instance(value, field\u001b[39m.\u001b[39mtype):\n\u001b[0;32m---> <a href='file:///~/.local/share/virtualenvs/cluster-analysis-fd520k80/lib/python3.9/site-packages/dacite/core.py?line=67'>68</a>\u001b[0m         \u001b[39mraise\u001b[39;00m WrongTypeError(field_path\u001b[39m=\u001b[39mfield\u001b[39m.\u001b[39mname, field_type\u001b[39m=\u001b[39mfield\u001b[39m.\u001b[39mtype, value\u001b[39m=\u001b[39mvalue)\n\u001b[1;32m     <a href='file:///~/.local/share/virtualenvs/cluster-analysis-fd520k80/lib/python3.9/site-packages/dacite/core.py?line=68'>69</a>\u001b[0m \u001b[39mexcept\u001b[39;00m \u001b[39mKeyError\u001b[39;00m:\n\u001b[1;32m     <a href='file:///~/.local/share/virtualenvs/cluster-analysis-fd520k80/lib/python3.9/site-packages/dacite/core.py?line=69'>70</a>\u001b[0m     \u001b[39mtry\u001b[39;00m:\n",
      "\u001b[0;31mWrongTypeError\u001b[0m: wrong value type for field \"labels\" - should be \"LocalStr\" instead of value \"{'de_DE': 'Auto exposure', 'en_US': 'Auto exposure', 'fr_FR': 'Auto exposure'}\" of type \"dict\""
     ]
    }
   ],
   "source": [
    "cache = akeneo.load_cache_from_env()"
   ]
  }
 ],
 "metadata": {
  "interpreter": {
   "hash": "2e5f538519eb6295833d34b6b2b64def2e17ecdccc08ac7b02c21eca857bcbe3"
  },
  "kernelspec": {
   "display_name": "Python 3.9.10 ('cluster-analysis-fd520k80')",
   "language": "python",
   "name": "python3"
  },
  "language_info": {
   "codemirror_mode": {
    "name": "ipython",
    "version": 3
   },
   "file_extension": ".py",
   "mimetype": "text/x-python",
   "name": "python",
   "nbconvert_exporter": "python",
   "pygments_lexer": "ipython3",
   "version": "3.9.10"
  },
  "orig_nbformat": 4
 },
 "nbformat": 4,
 "nbformat_minor": 2
}
