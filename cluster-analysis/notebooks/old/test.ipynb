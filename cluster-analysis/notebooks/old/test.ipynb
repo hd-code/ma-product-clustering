{
 "cells": [
  {
   "cell_type": "code",
   "execution_count": 1,
   "metadata": {},
   "outputs": [],
   "source": [
    "import pandas as pd\n",
    "import requests.status_codes\n",
    "\n",
    "from src import akeneo"
   ]
  },
  {
   "cell_type": "code",
   "execution_count": 2,
   "metadata": {},
   "outputs": [
    {
     "data": {
      "text/plain": [
       "requests.structures.LookupDict[201]"
      ]
     },
     "execution_count": 2,
     "metadata": {},
     "output_type": "execute_result"
    }
   ],
   "source": [
    "requests.status_codes.LookupDict[201]"
   ]
  },
  {
   "cell_type": "code",
   "execution_count": 3,
   "metadata": {},
   "outputs": [],
   "source": [
    "client = akeneo.create_client_from_env()"
   ]
  },
  {
   "cell_type": "code",
   "execution_count": 4,
   "metadata": {},
   "outputs": [
    {
     "data": {
      "text/html": [
       "<div>\n",
       "<style scoped>\n",
       "    .dataframe tbody tr th:only-of-type {\n",
       "        vertical-align: middle;\n",
       "    }\n",
       "\n",
       "    .dataframe tbody tr th {\n",
       "        vertical-align: top;\n",
       "    }\n",
       "\n",
       "    .dataframe thead th {\n",
       "        text-align: right;\n",
       "    }\n",
       "</style>\n",
       "<table border=\"1\" class=\"dataframe\">\n",
       "  <thead>\n",
       "    <tr style=\"text-align: right;\">\n",
       "      <th></th>\n",
       "      <th>id</th>\n",
       "      <th>path</th>\n",
       "      <th>method</th>\n",
       "      <th>path_vars</th>\n",
       "      <th>is_list</th>\n",
       "    </tr>\n",
       "  </thead>\n",
       "  <tbody>\n",
       "    <tr>\n",
       "      <th>54</th>\n",
       "      <td>pim_api_product_delete</td>\n",
       "      <td>/api/rest/v1/products/{code}</td>\n",
       "      <td>DELETE</td>\n",
       "      <td>[code]</td>\n",
       "      <td>False</td>\n",
       "    </tr>\n",
       "  </tbody>\n",
       "</table>\n",
       "</div>"
      ],
      "text/plain": [
       "                        id                          path  method path_vars  \\\n",
       "54  pim_api_product_delete  /api/rest/v1/products/{code}  DELETE    [code]   \n",
       "\n",
       "    is_list  \n",
       "54    False  "
      ]
     },
     "execution_count": 4,
     "metadata": {},
     "output_type": "execute_result"
    }
   ],
   "source": [
    "routes = client.get_routes()\n",
    "df = pd.DataFrame(routes)\n",
    "df[df[\"method\"] == \"DELETE\"]"
   ]
  },
  {
   "cell_type": "code",
   "execution_count": 5,
   "metadata": {},
   "outputs": [
    {
     "data": {
      "text/plain": [
       "'_list'"
      ]
     },
     "execution_count": 5,
     "metadata": {},
     "output_type": "execute_result"
    }
   ],
   "source": [
    "route_id = \"pim_api_channel_partial_update_list\"\n",
    "route_id[-5:]"
   ]
  },
  {
   "cell_type": "code",
   "execution_count": 6,
   "metadata": {},
   "outputs": [
    {
     "data": {
      "text/html": [
       "<div>\n",
       "<style scoped>\n",
       "    .dataframe tbody tr th:only-of-type {\n",
       "        vertical-align: middle;\n",
       "    }\n",
       "\n",
       "    .dataframe tbody tr th {\n",
       "        vertical-align: top;\n",
       "    }\n",
       "\n",
       "    .dataframe thead th {\n",
       "        text-align: right;\n",
       "    }\n",
       "</style>\n",
       "<table border=\"1\" class=\"dataframe\">\n",
       "  <thead>\n",
       "    <tr style=\"text-align: right;\">\n",
       "      <th></th>\n",
       "      <th>code</th>\n",
       "      <th>sort_order</th>\n",
       "      <th>attributes</th>\n",
       "      <th>labels</th>\n",
       "    </tr>\n",
       "  </thead>\n",
       "  <tbody>\n",
       "    <tr>\n",
       "      <th>0</th>\n",
       "      <td>color</td>\n",
       "      <td>8</td>\n",
       "      <td>[]</td>\n",
       "      <td>{'en_US': 'Color', 'fr_FR': 'Couleur', 'de_DE'...</td>\n",
       "    </tr>\n",
       "    <tr>\n",
       "      <th>1</th>\n",
       "      <td>design</td>\n",
       "      <td>3</td>\n",
       "      <td>[tshirt_style]</td>\n",
       "      <td>{'en_US': 'Design', 'fr_FR': 'Style', 'de_DE':...</td>\n",
       "    </tr>\n",
       "    <tr>\n",
       "      <th>2</th>\n",
       "      <td>ecommerce</td>\n",
       "      <td>6</td>\n",
       "      <td>[meta_title, meta_description]</td>\n",
       "      <td>{'en_US': 'Ecommerce', 'fr_FR': 'Ecommerce', '...</td>\n",
       "    </tr>\n",
       "    <tr>\n",
       "      <th>3</th>\n",
       "      <td>erp</td>\n",
       "      <td>1</td>\n",
       "      <td>[sku, price, erp_name, ean, supplier]</td>\n",
       "      <td>{'en_US': 'ERP', 'fr_FR': 'ERP', 'de_DE': 'ERP'}</td>\n",
       "    </tr>\n",
       "    <tr>\n",
       "      <th>4</th>\n",
       "      <td>manufacturing</td>\n",
       "      <td>6</td>\n",
       "      <td>[container_material, tshirt_materials]</td>\n",
       "      <td>{'en_US': 'Manufacturing', 'fr_FR': 'Fabricati...</td>\n",
       "    </tr>\n",
       "    <tr>\n",
       "      <th>5</th>\n",
       "      <td>marketing</td>\n",
       "      <td>0</td>\n",
       "      <td>[name, description, response_time, release_dat...</td>\n",
       "      <td>{'en_US': 'Marketing', 'fr_FR': 'Marketing', '...</td>\n",
       "    </tr>\n",
       "    <tr>\n",
       "      <th>6</th>\n",
       "      <td>medias</td>\n",
       "      <td>9</td>\n",
       "      <td>[picture, pdf_description, image, notice, vari...</td>\n",
       "      <td>{'en_US': 'Media', 'fr_FR': 'Media', 'de_DE': ...</td>\n",
       "    </tr>\n",
       "    <tr>\n",
       "      <th>7</th>\n",
       "      <td>other</td>\n",
       "      <td>10</td>\n",
       "      <td>[]</td>\n",
       "      <td>{'en_US': 'Other', 'fr_FR': 'Autre', 'de_DE': ...</td>\n",
       "    </tr>\n",
       "    <tr>\n",
       "      <th>8</th>\n",
       "      <td>product</td>\n",
       "      <td>4</td>\n",
       "      <td>[composition, wash_temperature, care_instructi...</td>\n",
       "      <td>{'en_US': 'Product', 'fr_FR': 'Produit', 'de_D...</td>\n",
       "    </tr>\n",
       "    <tr>\n",
       "      <th>9</th>\n",
       "      <td>size</td>\n",
       "      <td>8</td>\n",
       "      <td>[clothing_size]</td>\n",
       "      <td>{'en_US': 'Size', 'fr_FR': 'Taille', 'de_DE': ...</td>\n",
       "    </tr>\n",
       "    <tr>\n",
       "      <th>10</th>\n",
       "      <td>technical</td>\n",
       "      <td>2</td>\n",
       "      <td>[weight, maximum_scan_size, color_scanning, po...</td>\n",
       "      <td>{'en_US': 'Technical', 'fr_FR': 'Technique', '...</td>\n",
       "    </tr>\n",
       "    <tr>\n",
       "      <th>11</th>\n",
       "      <td>test_group</td>\n",
       "      <td>0</td>\n",
       "      <td>[main_color, secondary_color, keywords]</td>\n",
       "      <td>{'en_US': 'Test Group', 'fr_FR': 'Teste Groupe...</td>\n",
       "    </tr>\n",
       "  </tbody>\n",
       "</table>\n",
       "</div>"
      ],
      "text/plain": [
       "             code  sort_order  \\\n",
       "0           color           8   \n",
       "1          design           3   \n",
       "2       ecommerce           6   \n",
       "3             erp           1   \n",
       "4   manufacturing           6   \n",
       "5       marketing           0   \n",
       "6          medias           9   \n",
       "7           other          10   \n",
       "8         product           4   \n",
       "9            size           8   \n",
       "10      technical           2   \n",
       "11     test_group           0   \n",
       "\n",
       "                                           attributes  \\\n",
       "0                                                  []   \n",
       "1                                      [tshirt_style]   \n",
       "2                      [meta_title, meta_description]   \n",
       "3               [sku, price, erp_name, ean, supplier]   \n",
       "4              [container_material, tshirt_materials]   \n",
       "5   [name, description, response_time, release_dat...   \n",
       "6   [picture, pdf_description, image, notice, vari...   \n",
       "7                                                  []   \n",
       "8   [composition, wash_temperature, care_instructi...   \n",
       "9                                     [clothing_size]   \n",
       "10  [weight, maximum_scan_size, color_scanning, po...   \n",
       "11            [main_color, secondary_color, keywords]   \n",
       "\n",
       "                                               labels  \n",
       "0   {'en_US': 'Color', 'fr_FR': 'Couleur', 'de_DE'...  \n",
       "1   {'en_US': 'Design', 'fr_FR': 'Style', 'de_DE':...  \n",
       "2   {'en_US': 'Ecommerce', 'fr_FR': 'Ecommerce', '...  \n",
       "3    {'en_US': 'ERP', 'fr_FR': 'ERP', 'de_DE': 'ERP'}  \n",
       "4   {'en_US': 'Manufacturing', 'fr_FR': 'Fabricati...  \n",
       "5   {'en_US': 'Marketing', 'fr_FR': 'Marketing', '...  \n",
       "6   {'en_US': 'Media', 'fr_FR': 'Media', 'de_DE': ...  \n",
       "7   {'en_US': 'Other', 'fr_FR': 'Autre', 'de_DE': ...  \n",
       "8   {'en_US': 'Product', 'fr_FR': 'Produit', 'de_D...  \n",
       "9   {'en_US': 'Size', 'fr_FR': 'Taille', 'de_DE': ...  \n",
       "10  {'en_US': 'Technical', 'fr_FR': 'Technique', '...  \n",
       "11  {'en_US': 'Test Group', 'fr_FR': 'Teste Groupe...  "
      ]
     },
     "execution_count": 6,
     "metadata": {},
     "output_type": "execute_result"
    }
   ],
   "source": [
    "pd.DataFrame(client.get_list(\"pim_api_attribute_group_list\"))"
   ]
  },
  {
   "cell_type": "code",
   "execution_count": 7,
   "metadata": {},
   "outputs": [
    {
     "data": {
      "text/plain": [
       "'Entity updated'"
      ]
     },
     "execution_count": 7,
     "metadata": {},
     "output_type": "execute_result"
    }
   ],
   "source": [
    "attr_group = {\n",
    "    \"attributes\": [\"main_color\", \"secondary_color\", \"keywords\"],\n",
    "    \"labels\": {\n",
    "        \"en_US\": \"Test Group\",\n",
    "        \"fr_FR\": \"Teste Groupe\",\n",
    "        \"de_DE\": \"Testgruppe\",\n",
    "    },\n",
    "}\n",
    "\n",
    "client.patch(attr_group, \"pim_api_attribute_group_partial_update\", {\"code\": \"test_group\"})"
   ]
  },
  {
   "cell_type": "code",
   "execution_count": 9,
   "metadata": {},
   "outputs": [],
   "source": [
    "res = client.delete(\"pim_api_attribute_group_partial_update\", {\"code\": \"test_group\"})"
   ]
  },
  {
   "cell_type": "code",
   "execution_count": 11,
   "metadata": {},
   "outputs": [
    {
     "data": {
      "text/plain": [
       "'{\"code\":405,\"message\":\"No route found for \\\\\"DELETE \\\\/api\\\\/rest\\\\/v1\\\\/attribute-groups\\\\/test_group\\\\\": Method Not Allowed (Allow: GET, PATCH)\"}'"
      ]
     },
     "execution_count": 11,
     "metadata": {},
     "output_type": "execute_result"
    }
   ],
   "source": [
    "res.text"
   ]
  }
 ],
 "metadata": {
  "interpreter": {
   "hash": "2e5f538519eb6295833d34b6b2b64def2e17ecdccc08ac7b02c21eca857bcbe3"
  },
  "kernelspec": {
   "display_name": "Python 3.9.9 64-bit ('cluster-analysis-fd520k80': pipenv)",
   "language": "python",
   "name": "python3"
  },
  "language_info": {
   "codemirror_mode": {
    "name": "ipython",
    "version": 3
   },
   "file_extension": ".py",
   "mimetype": "text/x-python",
   "name": "python",
   "nbconvert_exporter": "python",
   "pygments_lexer": "ipython3",
   "version": "3.9.10"
  },
  "orig_nbformat": 4
 },
 "nbformat": 4,
 "nbformat_minor": 2
}
